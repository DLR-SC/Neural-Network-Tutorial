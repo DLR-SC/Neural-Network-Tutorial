{
 "cells": [
  {
   "cell_type": "code",
   "execution_count": null,
   "metadata": {},
   "outputs": [],
   "source": [
    "!pip install -q mnist"
   ]
  },
  {
   "cell_type": "code",
   "execution_count": null,
   "metadata": {},
   "outputs": [],
   "source": [
    "!wget 'https://github.com/DLR-SC/Neural-Network-Tutorial/raw/master/data/nn_theta_check.npy'"
   ]
  },
  {
   "cell_type": "code",
   "execution_count": null,
   "metadata": {},
   "outputs": [],
   "source": [
    "!wget 'https://raw.githubusercontent.com/DLR-SC/Neural-Network-Tutorial/master/mytools.py'"
   ]
  },
  {
   "attachments": {},
   "cell_type": "markdown",
   "metadata": {},
   "source": [
    "# Neural Networks - Excercise#\n",
    "\n",
    "Now let's up our game and try some \"real machine learning\". In the following exercise we will:\n",
    " 1. Implement and check the loss function of the Neural Network\n",
    " 2. Classify images from a test data set and compute the accuracy.\n",
    " 3. Figure out, how test set accuracy and training set accuracy depend on the number of samples.\n",
    " 4. Try to improve the accuracy by changing the number of neurons in the hidden layer or by changing the regularization.\n",
    " \n",
    "## Aim and Tasks ##  \n",
    "We want to use a neural network to classify the MNIST dataset. This dataset consists of hand-written digits between 0 and 9, stored in $28\\times28$ pixel images. <br>\n",
    "The MNIST dataset is often called the \"Hello World\" of machine learning. \n",
    "\n",
    "![alt text](https://github.com/DLR-SC/Neural-Network-Tutorial/raw/master/images/mnist.png)\n",
    "<br>We want to implement a simple neural network (just like in the example before) with the following architecture: \n",
    " - The network has one input layer, one output layer and one hidden layer inbetween\n",
    " - The number of inputs $n_1$ equals the number of pixels (i.e. 28x28 = 784).\n",
    " - The number of hidden neurons ${n_2}$ can be chosen arbirarily, but for now we choose 25\n",
    " - The neural network has $K = 10$ output neurons, each of them representing one label. \n",
    "![alt text](https://github.com/DLR-SC/Neural-Network-Tutorial/raw/master/images/neural-network.png)"
   ]
  },
  {
   "cell_type": "markdown",
   "metadata": {},
   "source": [
    "### Loading the data ### \n",
    "First, we will load the data:"
   ]
  },
  {
   "cell_type": "code",
   "execution_count": null,
   "metadata": {},
   "outputs": [],
   "source": [
    "from __future__ import print_function\n",
    "import mnist\n",
    "\n",
    "imgs_train = mnist.train_images()\n",
    "y_train = mnist.train_labels()\n",
    "imgs_test = mnist.test_images()\n",
    "y_test = mnist.test_labels()\n",
    "\n",
    "print(imgs_train.shape)\n",
    "print(imgs_test.shape)"
   ]
  },
  {
   "cell_type": "markdown",
   "metadata": {},
   "source": [
    "The entire training data set consists of 60 000 images, and the testing data set of 10 000 images. <br>\n",
    "Let's see what the data looks like. Here is the first 8 images of the MNIST data set of hand-written numbers:"
   ]
  },
  {
   "cell_type": "code",
   "execution_count": null,
   "metadata": {},
   "outputs": [],
   "source": [
    "import matplotlib\n",
    "import autograd.numpy as np\n",
    "import matplotlib.pyplot as plt\n",
    "%matplotlib inline \n",
    "fig, axes = plt.subplots(1, 8)\n",
    "fig.set_size_inches(18, 8)\n",
    "\n",
    "# show the first 8 images of the test set\n",
    "for i in range(0, 8):\n",
    "    ax = axes[i]\n",
    "    ax.imshow(imgs_train[i, :, :], cmap='gray');"
   ]
  },
  {
   "cell_type": "markdown",
   "metadata": {},
   "source": [
    "### Data normalization and preparation ###\n",
    "\n",
    "As in the previous exercise, the data have to be normalized. Also, the 28 x 28 pixel 2D images are reshaped to a 1D input vectpor $X$ with 784 entries $x_i$"
   ]
  },
  {
   "cell_type": "code",
   "execution_count": null,
   "metadata": {},
   "outputs": [],
   "source": [
    "def normalize_and_prepare(imgs):\n",
    "    # normalize between -0.5 ... 0.5\n",
    "    imgs_norm = np.array(imgs, dtype=float) / 255. - 0.5\n",
    "    # linearize the 2d image\n",
    "    return imgs_norm.reshape((imgs.shape[0], imgs.shape[1] * imgs.shape[2]))\n",
    "\n",
    "# we don't want to use the full data set, as our memory could run out\n",
    "n_train = 10000\n",
    "n_test = 10000\n",
    "\n",
    "X_train = normalize_and_prepare(imgs_train[0:n_train, :, :])\n",
    "X_test = normalize_and_prepare(imgs_test[0:n_test, :, :])\n",
    "\n",
    "y_train = y_train[0:n_train]\n",
    "y_test = y_test[0:n_test]\n",
    "\n",
    "X_train.shape\n"
   ]
  },
  {
   "cell_type": "markdown",
   "metadata": {},
   "source": [
    "## Implementation ##\n",
    "Now it's your turn. Let's implement and train the network:"
   ]
  },
  {
   "cell_type": "markdown",
   "metadata": {},
   "source": [
    "### Feed forward ###\n",
    "__Excercise:__ First of all, implement the foward propagation, i.e. feed forward. For this, you will need the following steps:"
   ]
  },
  {
   "cell_type": "markdown",
   "metadata": {},
   "source": [
    " 1) $ h^{(0)} = x $ (= X_train)  \n",
    " 2) Add the row of 1s to $h^{(0)}$ to account for the constant bias  \n",
    " 3) $ z^{(1)} = w^{(0)} h^{(0)} $  \n",
    " 4) $ h^{(1)} = \\sigma(z^{(1)})$  \n",
    " 5) Add the row of 1s to $h^{(1)}$ to account for the constant bias  \n",
    " 6) $ z^{(2)} = w^{(1)} h^{(1)} $  \n",
    " 8) $ h^{(2)} = \\sigma(z^{(2)})$  \n",
    " 9) $y_{pred} = h^{(2)}$  \n",
    " "
   ]
  },
  {
   "cell_type": "code",
   "execution_count": null,
   "metadata": {},
   "outputs": [],
   "source": [
    "def sigmoid(z):\n",
    "    return 1 / (1 + np.exp(-z))\n",
    "\n",
    "def propagate(X, w_1, w_2):\n",
    "    \"\"\"\n",
    "    Propagates the input X through the neural network\n",
    "    :param theta_1: The parameters of hidden layer of the neural network\n",
    "    :param theta_2: The parameters of output layer of the neural network\n",
    "    :param X: The input data to be predicted\n",
    "    :return:\n",
    "    \"\"\"\n",
    "    # number of data items\n",
    "    m_samples = X.shape[0]\n",
    "    n_hidden_neurons = w_1.shape[1]\n",
    "    n_output_neurons = w_2.shape[1]\n",
    "    \n",
    "    #### start your code ####\n",
    "\n",
    "    \n",
    "    ###### end your code #####\n",
    "    # assert o.shape == (m_samples, n_output_neurons)\n",
    "\n",
    "    return o"
   ]
  },
  {
   "cell_type": "markdown",
   "metadata": {},
   "source": [
    "Now compute the loss function $L$ from $y_{pred}$ and $y_{true}=$ y_train. <br>\n",
    "We will use the loss function for logistic regression:\n",
    "$$\n",
    "L\\left(\\theta = (\\pmb{W^{(0)}},\\pmb{W^{(1)}}, \\pmb{b^{(0)}}, \\pmb{b^{(1)}})\\right) = - \\frac{1}{n} \\sum_{i=1}^n y_i \\:log\\left(o_{\\theta}(x_i)\\right) + (1-y_i)\\:log\\left(1-o_{\\theta}(x_i)\\right) + \\frac{\\lambda}{2n}\\sum_{j=1}^n\\theta_j^2\n",
    "$$\n"
   ]
  },
  {
   "cell_type": "code",
   "execution_count": null,
   "metadata": {},
   "outputs": [],
   "source": [
    "def extract_weights(w, neurons_per_layer):\n",
    "    weight_layer = []\n",
    "    start = 0\n",
    "    for i in range(0, len(neurons_per_layer)-1):\n",
    "        size = (neurons_per_layer[i] + 1) * neurons_per_layer[i+1]\n",
    "        w_cur_layer = w[start: start+size].reshape((neurons_per_layer[i] + 1, neurons_per_layer[i+1]))\n",
    "        weight_layer.append(w_cur_layer)\n",
    "        start = start + size\n",
    "    \n",
    "    return weight_layer\n",
    "    \n",
    "import copy\n",
    "def nn_loss_function(w, X, y, lam, n_hidden_neurons, n_labels):\n",
    "    \"\"\"\n",
    "    :param theta: Parameters of the regressor\n",
    "    :param X: Input values (n_samples x n_features)\n",
    "    :param y: Ground truth labels for each sample of X\n",
    "    :param lam: Regularization parameter\n",
    "    :return: Cost value\n",
    "    \"\"\"\n",
    "\n",
    "    # number of data items\n",
    "    m_samples = X.shape[0]\n",
    "    n_features = X.shape[1]\n",
    "   \n",
    "    w_1, w_2 = extract_weights(w, [n_features, n_hidden_neurons, n_labels])\n",
    "    \n",
    "    y_pred = propagate(X, w_1, w_2)\n",
    "    \n",
    "    #### start your code ####\n",
    "    # TODO: Compute the loss function of the log regression\n",
    "    \n",
    "\n",
    "    ###### end your code #####\n",
    "\n",
    "\n",
    "    return L"
   ]
  },
  {
   "cell_type": "markdown",
   "metadata": {},
   "source": [
    "### Accuracy check ###\n",
    "Let's check the accuracy of the loss function. We load some pre-defined weights $w$ and compare the loss with a reference value."
   ]
  },
  {
   "cell_type": "code",
   "execution_count": null,
   "metadata": {},
   "outputs": [],
   "source": [
    "import mytools\n",
    "import numpy\n",
    "# this loads already theta values for all labels.\n",
    "# we want to check it however just for one label\n",
    "w_check = numpy.load('nn_theta_check.npy')\n",
    "\n",
    "expected_loss = nn_loss_function(w_check, X_train[0:5000],\n",
    "                                 mytools.encode_one_hot(y_train[0:5000], 10),\n",
    "                                                 0.1, 25, 10)\n",
    "\n",
    "# this value must be roughly 6.730543\n",
    "if np.abs(expected_loss - 6.730543) > 1e-4:\n",
    "    print(\"Oooops... please check your loss function\")\n",
    "else:\n",
    "    print(\"Hooray, your loss function looks good\")"
   ]
  },
  {
   "cell_type": "markdown",
   "metadata": {},
   "source": [
    "### Training  ###\n",
    "\n",
    "If your loss function passes the accuracy tests, it is time to do the training!\n",
    "\n",
    "Do do symmetry breaking, we initialize the parameters $w$ with some small random numbers."
   ]
  },
  {
   "cell_type": "code",
   "execution_count": null,
   "metadata": {},
   "outputs": [],
   "source": [
    "def initial_layer_weights(n_input, n_output):\n",
    "    \"\"\"\n",
    "    Initialize theta randomly so that we break the symmetry while\n",
    "                training the neural network.\n",
    "    \"\"\"\n",
    "\n",
    "    eps = 0.12\n",
    "    w = np.random.rand(n_input + 1, n_output) * eps * 2. - eps\n",
    "    return w"
   ]
  },
  {
   "cell_type": "markdown",
   "metadata": {},
   "source": [
    "This defines our training procedure..."
   ]
  },
  {
   "cell_type": "code",
   "execution_count": null,
   "metadata": {},
   "outputs": [],
   "source": [
    "import scipy.optimize\n",
    "import autograd\n",
    "def train(X, y, n_hidden_neurons, num_labels, regularization, max_iter):\n",
    "    \n",
    "    n_features = X.shape[1]\n",
    "\n",
    "    # initialize parameters\n",
    "    w_1 = initial_layer_weights(n_features, n_hidden_neurons)\n",
    "    w_2 = initial_layer_weights(n_hidden_neurons, num_labels)\n",
    "\n",
    "    # we have to linearize then for the optimizer\n",
    "    w = np.hstack((w_1.flatten(), w_2.flatten()))\n",
    "\n",
    "    def cost_function(t):\n",
    "        return nn_loss_function(t, X, y, regularization, n_hidden_neurons, num_labels)\n",
    "\n",
    "    print(\"Training neural network... time to get a coffee\")\n",
    "\n",
    "    res = scipy.optimize.minimize(cost_function,\n",
    "                                  w, jac=autograd.grad(cost_function),\n",
    "                                  options={'disp': True, 'maxiter': max_iter}, method='CG')\n",
    "\n",
    "    # restore layer 1 and 2 parameters\n",
    "    return extract_weights(res.x, [n_features, n_hidden_neurons, num_labels])"
   ]
  },
  {
   "cell_type": "markdown",
   "metadata": {},
   "source": [
    "Now do the training!"
   ]
  },
  {
   "cell_type": "code",
   "execution_count": null,
   "metadata": {},
   "outputs": [],
   "source": [
    "n_hidden_neurons = 25\n",
    "regularization = 2.25\n",
    "n_train_samples = 3000\n",
    "max_iter = 1000\n",
    "\n",
    "w_1, w_2 = train(X_train[0: n_train_samples, :],\n",
    "                         mytools.encode_one_hot(y_train[0: n_train_samples], 10),\n",
    "                         n_hidden_neurons, 10, regularization, max_iter)"
   ]
  },
  {
   "cell_type": "markdown",
   "metadata": {},
   "source": [
    "### Classification  ###\n",
    "\n",
    "First we implement our predictor."
   ]
  },
  {
   "cell_type": "code",
   "execution_count": null,
   "metadata": {},
   "outputs": [],
   "source": [
    "def predict_label(X, w_1, w_2):\n",
    "    \"\"\"\n",
    "    Predicts the data using the logistic regression approach\n",
    "    :param X: The input data to be predicted\n",
    "    :param theta_1: The parameters of hidden layer of the neural network\n",
    "    :param theta_w: The parameters of output layer of the neural network\n",
    "    :return:\n",
    "    \"\"\"\n",
    "    h = propagate(X, w_1, w_2)\n",
    "\n",
    "    # return index of maximum probability and probability\n",
    "    return np.argmax(h, axis=1), np.max(h, axis=1)"
   ]
  },
  {
   "cell_type": "markdown",
   "metadata": {},
   "source": [
    "Lets predict the first 8 images of the test set\n"
   ]
  },
  {
   "cell_type": "code",
   "execution_count": null,
   "metadata": {},
   "outputs": [],
   "source": [
    "fig, axes = plt.subplots(1, 8)\n",
    "fig.set_size_inches(18, 8)\n",
    "\n",
    "# show the first 8 images of the test set\n",
    "for i in range(0, 8):\n",
    "    ax = axes[i]\n",
    "    ax.imshow(imgs_test[i, :, :], cmap='gray');"
   ]
  },
  {
   "cell_type": "code",
   "execution_count": null,
   "metadata": {},
   "outputs": [],
   "source": [
    "prediction, probabilty = predict_label(X_test[0:8, :], w_1, w_2)\n",
    "print (\"Prediction: \", prediction)"
   ]
  },
  {
   "cell_type": "markdown",
   "metadata": {},
   "source": [
    "Lets have a look at the probabilities:"
   ]
  },
  {
   "cell_type": "code",
   "execution_count": null,
   "metadata": {},
   "outputs": [],
   "source": [
    "print (\"Probability: \", probabilty)"
   ]
  },
  {
   "cell_type": "markdown",
   "metadata": {},
   "source": [
    "### Accuracy ###\n",
    "\n",
    "Now, lets compute the accuracy of the classifier for the whole test set. A completely untrained classifier should roughly score 10%."
   ]
  },
  {
   "cell_type": "code",
   "execution_count": null,
   "metadata": {},
   "outputs": [],
   "source": [
    "labels_predicted, probability = predict_label(X_test, w_1, w_2)\n",
    "accuracy = np.mean(np.array(labels_predicted == y_test, dtype=float))\n",
    "print (\"Accuracy of the neural network on the test set: %g%%\" % (accuracy*100.))"
   ]
  },
  {
   "cell_type": "markdown",
   "metadata": {},
   "source": [
    "## Further tasks## \n",
    "__Excercise:__\n",
    " - Investigate, how test accuracy and training accuracy depend on the test set size. Train the classifier with different n_train_samples and compute accuracies. What do you see?\n",
    " - Play around with the number of hidden layer neurons. What effect does it have?"
   ]
  },
  {
   "cell_type": "code",
   "execution_count": null,
   "metadata": {},
   "outputs": [],
   "source": []
  }
 ],
 "metadata": {
  "kernelspec": {
   "display_name": "Python 3",
   "language": "python",
   "name": "python3"
  },
  "language_info": {
   "codemirror_mode": {
    "name": "ipython",
    "version": 3
   },
   "file_extension": ".py",
   "mimetype": "text/x-python",
   "name": "python",
   "nbconvert_exporter": "python",
   "pygments_lexer": "ipython3",
   "version": "3.6.7"
  }
 },
 "nbformat": 4,
 "nbformat_minor": 2
}
